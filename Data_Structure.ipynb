{
  "nbformat": 4,
  "nbformat_minor": 0,
  "metadata": {
    "colab": {
      "provenance": []
    },
    "kernelspec": {
      "name": "python3",
      "display_name": "Python 3"
    },
    "language_info": {
      "name": "python"
    }
  },
  "cells": [
    {
      "cell_type": "markdown",
      "source": [
        "**Data types and Structures**\n",
        "\n",
        "\n",
        "**Theoretical questions**\n",
        "\n",
        "**Question no 1. What are data structures and why they are important?**\n",
        "\n",
        "**Answer:-** Data structures are the way of organizing, storing, and managing data so it can be used efficiently.\n",
        "They are important because.\n",
        "\n",
        "1.They help save memory and organize data neatly.\n",
        "\n",
        "2.They make your programs cleaner, more readable, and easier to manage.\n",
        "\n",
        "3.They are used in various problems like searching, sorting, AI, machine learning, databases, and more.\n",
        "\n",
        "4.We can find, add, or remove data quickly.\n",
        "\n",
        "**Question no 2. Explain the difference between mutable and immutable data types with examples.**\n",
        "\n",
        "**Answer:-** **Mutables data types** - This type of data which can be acessed and changed/replace once they are created. There memory location remains the same after the modifications.\n",
        "\n",
        "Examples are list, dict and set.\n",
        "\n",
        "**Immutables data types** - This type of data which can not be acessed and changed/replace once they are created. There memory location does not remains the same but a new memory location is made after the modifications.\n",
        "\n",
        "Examples are str and tuples.\n",
        "\n",
        "**Question no 3. What are the main differance between the lists and tuples in python.**\n",
        "\n",
        "**Answer:-**The main difference between the list and tuples is that the lists are mutable whereas the tuples are immutable, which means we can edit or change the data in list once they are created while in the case of tuples we can not edit or not able to make any change in the data once they are created.\n",
        "\n",
        "**Question no. 4. Describe how dictionaries stores data.**\n",
        "\n",
        "**Answer.** A dictionart store the data in the form of key value pair. They are the fastest data structure. Dictionary are unique and immutable.\n",
        "\n",
        "for example: d = {\"name\":\"Ajay\", \"email\":\"ajaya12@gmail.com\",\"contact no\":456887654}.\n",
        "\n",
        "**Question no. 5. Why might you use a set instead of a list in python.**\n",
        "\n",
        " **Answer.** when there is a situation in which we want to store unique elements only, which need fast searching, need to perform set operations and if the order of the element doesn't matter then in that condition we will choose set over list.\n",
        "\n",
        " **Question no. 6. What is a string in python and how it is different from list.**\n",
        "\n",
        " **Answer.** A string is a sequence of characters which are enclosed in single ('), double (\"), or triple quotes (''' or \"\"\").\n",
        "\n",
        " In strings we can only store textual data, while in case of list we can store any types of data like strings, integer, float, boolean, etc. list are mutable unlike strings.\n",
        "\n",
        " **Question no. 7. How do tuples ensures data integrity in python.**\n",
        "\n",
        " **Answer.** Data integrity means protecting data from being changed intentionally. It ensures that once data is set, it stays same as provided.\n",
        " Tuples are immutable in nature which means we cannot change a data once it is provided and this ensures the data integrity.\n",
        "\n",
        "\n"
      ],
      "metadata": {
        "id": "cyRR2-N2GD-_"
      }
    },
    {
      "cell_type": "code",
      "source": [
        "#for example\n",
        "data = (10,20,30,40,50)\n",
        "#if we want to change first element of data from 10 to 101\n",
        "data[0]"
      ],
      "metadata": {
        "colab": {
          "base_uri": "https://localhost:8080/"
        },
        "id": "rgDhtM1RBnTX",
        "outputId": "88853a90-6a58-4d03-9f7c-c6e586877669"
      },
      "execution_count": 1,
      "outputs": [
        {
          "output_type": "execute_result",
          "data": {
            "text/plain": [
              "10"
            ]
          },
          "metadata": {},
          "execution_count": 1
        }
      ]
    },
    {
      "cell_type": "code",
      "source": [
        "data[0] = 101\n",
        "# here we are trying to chnage the element which will give error"
      ],
      "metadata": {
        "colab": {
          "base_uri": "https://localhost:8080/",
          "height": 159
        },
        "id": "0CLzy91dB94O",
        "outputId": "f8101c4d-077e-4e3e-be46-93a3f7a0cb86"
      },
      "execution_count": 2,
      "outputs": [
        {
          "output_type": "error",
          "ename": "TypeError",
          "evalue": "'tuple' object does not support item assignment",
          "traceback": [
            "\u001b[0;31m---------------------------------------------------------------------------\u001b[0m",
            "\u001b[0;31mTypeError\u001b[0m                                 Traceback (most recent call last)",
            "\u001b[0;32m<ipython-input-2-741457a19ff2>\u001b[0m in \u001b[0;36m<cell line: 0>\u001b[0;34m()\u001b[0m\n\u001b[0;32m----> 1\u001b[0;31m \u001b[0mdata\u001b[0m\u001b[0;34m[\u001b[0m\u001b[0;36m0\u001b[0m\u001b[0;34m]\u001b[0m \u001b[0;34m=\u001b[0m \u001b[0;36m101\u001b[0m\u001b[0;34m\u001b[0m\u001b[0;34m\u001b[0m\u001b[0m\n\u001b[0m\u001b[1;32m      2\u001b[0m \u001b[0;31m# here we are trying to chnage the element which will give error\u001b[0m\u001b[0;34m\u001b[0m\u001b[0;34m\u001b[0m\u001b[0m\n",
            "\u001b[0;31mTypeError\u001b[0m: 'tuple' object does not support item assignment"
          ]
        }
      ]
    },
    {
      "cell_type": "markdown",
      "source": [
        "**Question no. 8. What is a hash table and how does it relates to dictionaries in python.**\n",
        "\n",
        "**Answer.** A hash table is a data structure that stores key-value pairs. It uses a process called hashing to convert a key into an index where the value is stored. Hash table reltes to dictionaries as the the dictionaaries (dict) are built using a hash table under the hood.\n",
        "\n",
        "**Question no. 9. Can lists contain different data types in Python.**\n",
        "\n",
        "**Answer.** lists are dynamic, flexible and can hold a mix of any data types. it does not if the data type is string, integer, float or boolean."
      ],
      "metadata": {
        "id": "Q6UronReCOwR"
      }
    },
    {
      "cell_type": "code",
      "source": [
        "#for example\n",
        "my_list = [10, \"Hello\", 3.14, True, [1, 2, 3]]"
      ],
      "metadata": {
        "id": "JfAag1uRCMvc"
      },
      "execution_count": null,
      "outputs": []
    },
    {
      "cell_type": "markdown",
      "source": [
        "**Question no. 10. Explain why strings are immutable in python?**\n",
        "\n",
        "**Answer.** Immutable means unchangeable. Once a string is created, we cannot change its characters. Strings are often used for identifiers, keys, and important data like filenames, URLs, etc. Making them immutable helps prevent making changes."
      ],
      "metadata": {
        "id": "dtxSKhshFG45"
      }
    },
    {
      "cell_type": "code",
      "source": [
        "#for example\n",
        "string = \"This is a string\"\n",
        "string[0]"
      ],
      "metadata": {
        "colab": {
          "base_uri": "https://localhost:8080/",
          "height": 35
        },
        "id": "FtDynpMoGJZp",
        "outputId": "718d6630-ca0a-4a55-bd7d-f544c153b264"
      },
      "execution_count": 3,
      "outputs": [
        {
          "output_type": "execute_result",
          "data": {
            "text/plain": [
              "'T'"
            ],
            "application/vnd.google.colaboratory.intrinsic+json": {
              "type": "string"
            }
          },
          "metadata": {},
          "execution_count": 3
        }
      ]
    },
    {
      "cell_type": "code",
      "source": [
        "string[0]=\"Y\"\n",
        "#here we are trying to chnage the character t with the y."
      ],
      "metadata": {
        "colab": {
          "base_uri": "https://localhost:8080/",
          "height": 159
        },
        "id": "JsEpoL1eGXQG",
        "outputId": "2b94b9c5-d763-40cb-c3fa-05da98ea0c7c"
      },
      "execution_count": 5,
      "outputs": [
        {
          "output_type": "error",
          "ename": "TypeError",
          "evalue": "'str' object does not support item assignment",
          "traceback": [
            "\u001b[0;31m---------------------------------------------------------------------------\u001b[0m",
            "\u001b[0;31mTypeError\u001b[0m                                 Traceback (most recent call last)",
            "\u001b[0;32m<ipython-input-5-6e009bca6341>\u001b[0m in \u001b[0;36m<cell line: 0>\u001b[0;34m()\u001b[0m\n\u001b[0;32m----> 1\u001b[0;31m \u001b[0mstring\u001b[0m\u001b[0;34m[\u001b[0m\u001b[0;36m0\u001b[0m\u001b[0;34m]\u001b[0m\u001b[0;34m=\u001b[0m\u001b[0;34m\"Y\"\u001b[0m\u001b[0;34m\u001b[0m\u001b[0;34m\u001b[0m\u001b[0m\n\u001b[0m\u001b[1;32m      2\u001b[0m \u001b[0;31m#here we are trying to chnage the character t with the y.\u001b[0m\u001b[0;34m\u001b[0m\u001b[0;34m\u001b[0m\u001b[0m\n",
            "\u001b[0;31mTypeError\u001b[0m: 'str' object does not support item assignment"
          ]
        }
      ]
    },
    {
      "cell_type": "markdown",
      "source": [
        "**Question no. 11. What advantages do dictionaries offer over lists for certain tasks.**\n",
        "\n",
        "**Answer.** A list stores data by position/index while a dictionary stores data as key–value pairs.\n",
        "\n",
        "Advantages of dictionaries over the list are as follows.\n",
        "\n",
        "1.Accessing a value by key (e.g., data[\"name\"]) is much faster than searching through a list.\n",
        "\n",
        "2.Keys describe the data, making it easier to understand (student[\"name\"] vs student[0]).\n",
        "\n",
        "3.You can store many types of related information together, like a record.\n",
        "\n",
        "4.Prevents duplicate entries for the same item — enforces data integrity.\n",
        "\n",
        "5.Efficient for large data\tHandles large, structured datasets with fast performance.\n",
        "\n",
        "\n",
        "**Question no. 12. Describe a scenario where using a tuple would be preferable over a list.**\n",
        "\n",
        "**Answer.** let us say we're building a map or a game and it need to store the position of an object at a fixed place now in this case we can use list, and tuple but list are mutable making it suseptible to make change thus in this case we will prefer tuple over the list as tuple is immutable means we cannot change the position of the object once it is entered.\n",
        "\n",
        "**Question no. 13. How do sets handle duplicate values in Python.**\n",
        "\n",
        "**Answer.** A set in Python is a unordered collection which contains only unique values. When we add elements to a set, Python checks for duplicates. If a value is already present, it won’t be added again.\n"
      ],
      "metadata": {
        "id": "jTEjr_SMG-gM"
      }
    },
    {
      "cell_type": "code",
      "source": [
        "my_set = {1, 2, 3, 2, \"ram\", 4, 1, \"ram\", 3, 5, 5,}\n",
        "print(my_set)"
      ],
      "metadata": {
        "colab": {
          "base_uri": "https://localhost:8080/"
        },
        "id": "duuHAYwXLXC_",
        "outputId": "95099e98-4ee9-4f47-d490-966054dc2e1b"
      },
      "execution_count": 9,
      "outputs": [
        {
          "output_type": "stream",
          "name": "stdout",
          "text": [
            "{1, 2, 3, 4, 5, 'ram'}\n"
          ]
        }
      ]
    },
    {
      "cell_type": "code",
      "source": [
        "#here we have some duplicate value but they are not reflected again and again."
      ],
      "metadata": {
        "id": "mhkyM3T3LZBH"
      },
      "execution_count": null,
      "outputs": []
    },
    {
      "cell_type": "markdown",
      "source": [
        "**Question no. 14. How does the \"in\" keyword work differntly for lists and dictionaries.**\n",
        "\n",
        "**Answer.** in keyword work differently for list and dictionary lest us understand this with the example."
      ],
      "metadata": {
        "id": "N5sSNNHSL5t4"
      }
    },
    {
      "cell_type": "code",
      "source": [
        "fruits = [\"apple\", \"banana\", \"cherry\"]\n",
        "print(\"apple\" in fruits)\n",
        "\n"
      ],
      "metadata": {
        "colab": {
          "base_uri": "https://localhost:8080/"
        },
        "id": "e5S5_EYuTejp",
        "outputId": "e2f6c8ad-6d49-4125-d8d3-4fadc04e92a9"
      },
      "execution_count": 10,
      "outputs": [
        {
          "output_type": "stream",
          "name": "stdout",
          "text": [
            "True\n"
          ]
        }
      ]
    },
    {
      "cell_type": "code",
      "source": [
        "print(\"mango\" in fruits)\n"
      ],
      "metadata": {
        "colab": {
          "base_uri": "https://localhost:8080/"
        },
        "id": "_U80jSg5TiXo",
        "outputId": "4c0f7b62-1f52-4712-aebd-2ce89e51e117"
      },
      "execution_count": 11,
      "outputs": [
        {
          "output_type": "stream",
          "name": "stdout",
          "text": [
            "False\n"
          ]
        }
      ]
    },
    {
      "cell_type": "code",
      "source": [
        "person = {\"name\": \"Ravi\", \"age\": 21}\n",
        "print(\"name\" in person)\n",
        "print(\"Ravi\" in person)\n"
      ],
      "metadata": {
        "colab": {
          "base_uri": "https://localhost:8080/"
        },
        "id": "4Yay2j_XTm_9",
        "outputId": "01a978a6-6bdb-424c-f306-170a8e4c5962"
      },
      "execution_count": 12,
      "outputs": [
        {
          "output_type": "stream",
          "name": "stdout",
          "text": [
            "True\n",
            "False\n"
          ]
        }
      ]
    },
    {
      "cell_type": "markdown",
      "source": [
        "in the above mentioned example when we are trying to find an element in the list using \"in\" it is giving us the results also in the case of the dictionary we are trying to find the element ravi it is there but giving the false result, as it is in the key value pair.\n",
        "\n",
        "**Question no. 15. Can you modify the elements of a tuple? Explain why or why not.**\n",
        "\n",
        "**Answer.** No, we cannot modify the elements of a tuple as tuples are immutable, meaning once created, their elements cannot be changed, added, or removed.\n",
        "\n",
        "1.Tuple prevents changes to data that shouldn’t change (e.g., coordinates, dates).\n",
        "\n",
        "2.Tuples can be used as keys in dictionaries, but lists cannot.\n",
        "\n",
        "3.Tuples are generally faster and use less memory than lists.\n",
        "\n",
        "we cannot change an item, append new items and delete items.\n",
        "\n",
        "**Question no. 16. What is a nested dictionary,  and give an example of its use case.**\n",
        "\n",
        "**Answer.** A nested dictionary is a dictionary inside another dictionary."
      ],
      "metadata": {
        "id": "hBLO7Kq_UZVp"
      }
    },
    {
      "cell_type": "code",
      "source": [
        "students = {\"Ravi\": {\"age\": 21, \"grade\": \"A\", \"city\": \"Delhi\"},\n",
        "    \"Priya\": {\"age\": 20, \"grade\": \"B\", \"city\": \"Mumbai\"},\n",
        "    \"Amit\": {\"age\": 22, \"grade\": \"A\", \"city\": \"Chennai\"}}\n",
        "print(students[\"Ravi\"])\n",
        "print(students[\"Priya\"])"
      ],
      "metadata": {
        "colab": {
          "base_uri": "https://localhost:8080/"
        },
        "id": "P5xAf_vkYsAY",
        "outputId": "df2a77e7-5099-4fd7-c2d1-96c2cac8fa47"
      },
      "execution_count": 15,
      "outputs": [
        {
          "output_type": "stream",
          "name": "stdout",
          "text": [
            "{'age': 21, 'grade': 'A', 'city': 'Delhi'}\n",
            "{'age': 20, 'grade': 'B', 'city': 'Mumbai'}\n"
          ]
        }
      ]
    },
    {
      "cell_type": "markdown",
      "source": [
        "its use cases are:\n",
        "\n",
        "1.Storing student info, employee records, product specs\n",
        "\n",
        "2.Grouping related info under a single key\n",
        "\n",
        "**Question no. 17 Describe the time complexity of accessing elements in a dictionary.**\n",
        "\n",
        "**Answer.** Dictionaries store data using a hash table, which allows for very fast access to elements by their keys. The average time complexity for accessing an element using its key is O(1), meaning it takes constant time regardless of the dictionary's size. This efficiency is due to the way Python computes a hash for each key and uses it to directly find the value. In rare cases, such as hash collisions, the time complexity can degrade to O(n), but this is uncommon due to Python's efficient handling. Overall, dictionaries offer quick and reliable access to data using unique keys.\n",
        "\n",
        "**Question no. 18. In what situations are lists preferred over dictonaries?**\n",
        "\n",
        "**Answer.**Lists are preferred over dictionaries in the following situations:\n",
        "\n",
        "When order have importance– Lists maintain the order of elements, which is useful when sequence is important.\n",
        "\n",
        "For storing simple collections – Use lists when we just need to store values (like numbers, names, etc.) without labels.\n",
        "\n",
        "When indexing by position – Lists are ideal when we want to access elements using numeric indices (e.g., list[0]).\n",
        "\n",
        "When data doesn't require key-value pairs – If we don’t need to associate data with unique identifiers, a list is simpler.\n",
        "\n",
        "When duplicates are allowed – Lists allow repeated values, unlike sets or dictionary keys.\n",
        "\n",
        "**Question no. 19. Why are dictionaries considered unordered, and how does that  affect data retrieval?**\n",
        "\n",
        "**Answer.**Dictionaries in Python considered unordered because the elements (key-value pairs) were not stored in any predictable sequence. This meant that when we retrieved or looped through a dictionary, the order of items could differ from the order in which they were added.\n",
        "\n",
        "It affects data retrieval as follows:\n",
        "\n",
        "we cannot access values by position (e.g., dict[0] won’t work).\n",
        "\n",
        "Retrieval is done by keys only, so you must know the exact key.\n",
        "\n",
        "**Question no. 20. Explain the difference between a list and a dictionary in terms of data retrieval.**\n",
        "\n",
        "**Answer.**The key difference between a list and a dictionary in terms of data retrieval are as follows:\n",
        "\n",
        "**List**:\n",
        "Data is retrieved using index numbers.\n",
        "\n",
        "Example: my_list[2] retrieves the third element.\n",
        "\n",
        "Useful when the position of items matters.\n",
        "\n",
        "**Dictionary**:\n",
        "Data is retrieved using unique keys.\n",
        "\n",
        "Example: my_dict[\"name\"] retrieves the value associated with the key \"name\".\n",
        "\n",
        "Best when we want to associate values with identifiers.\n",
        "\n",
        "**Practical Questions**\n",
        "\n",
        "**Question no. 1. Write a code to create a string with your name and print it.**"
      ],
      "metadata": {
        "id": "Vx1U2m7IZXo2"
      }
    },
    {
      "cell_type": "code",
      "source": [
        "name = \"My name is Ritesh Kumar\"\n",
        "print(name)"
      ],
      "metadata": {
        "colab": {
          "base_uri": "https://localhost:8080/"
        },
        "id": "JQqfWvqNfInQ",
        "outputId": "cabcde6c-4ff4-4aba-b2b6-82bd50acc968"
      },
      "execution_count": 16,
      "outputs": [
        {
          "output_type": "stream",
          "name": "stdout",
          "text": [
            "My name is Ritesh Kumar\n"
          ]
        }
      ]
    },
    {
      "cell_type": "markdown",
      "source": [
        "**Question no. 02. Write a code to find the length of the string \"Hello World\".**"
      ],
      "metadata": {
        "id": "9vhmo06gfV5Y"
      }
    },
    {
      "cell_type": "code",
      "source": [
        "a = \"Hello World\"\n",
        "len(a)"
      ],
      "metadata": {
        "colab": {
          "base_uri": "https://localhost:8080/"
        },
        "id": "XulHXakvfT60",
        "outputId": "57d3714d-6532-4e35-a8f0-690318b8172c"
      },
      "execution_count": 17,
      "outputs": [
        {
          "output_type": "execute_result",
          "data": {
            "text/plain": [
              "11"
            ]
          },
          "metadata": {},
          "execution_count": 17
        }
      ]
    },
    {
      "cell_type": "markdown",
      "source": [
        "**Question no. 03. Write a code to slice the first 3 charcters from the string \"Python Programming\".**"
      ],
      "metadata": {
        "id": "CGyzzPSnfy3R"
      }
    },
    {
      "cell_type": "code",
      "source": [
        "t = \"Python Programming\"\n",
        "t[0:3]"
      ],
      "metadata": {
        "colab": {
          "base_uri": "https://localhost:8080/",
          "height": 35
        },
        "id": "100l2NQEfwjr",
        "outputId": "6bd84efc-80b4-44c2-9a18-7dd228cf5d5b"
      },
      "execution_count": 19,
      "outputs": [
        {
          "output_type": "execute_result",
          "data": {
            "text/plain": [
              "'Pyt'"
            ],
            "application/vnd.google.colaboratory.intrinsic+json": {
              "type": "string"
            }
          },
          "metadata": {},
          "execution_count": 19
        }
      ]
    },
    {
      "cell_type": "markdown",
      "source": [
        "**Question no. 04. Write a code to convert the string \"hello\" to uppercase.**"
      ],
      "metadata": {
        "id": "0RPUAcnWhVWB"
      }
    },
    {
      "cell_type": "code",
      "source": [
        "i = \"hello\"\n",
        "i.upper()"
      ],
      "metadata": {
        "colab": {
          "base_uri": "https://localhost:8080/",
          "height": 35
        },
        "id": "Isz6Oq6DhrdM",
        "outputId": "cfd70bf9-e726-4b22-839a-2305335574a5"
      },
      "execution_count": 21,
      "outputs": [
        {
          "output_type": "execute_result",
          "data": {
            "text/plain": [
              "'HELLO'"
            ],
            "application/vnd.google.colaboratory.intrinsic+json": {
              "type": "string"
            }
          },
          "metadata": {},
          "execution_count": 21
        }
      ]
    },
    {
      "cell_type": "markdown",
      "source": [
        "**Question no. 05. Write a code to replace the word \"apple\" with \"orange\" in the string \"I like apple\".**"
      ],
      "metadata": {
        "id": "WlT4PddChzRe"
      }
    },
    {
      "cell_type": "code",
      "source": [
        "y = \"I like apple\"\n",
        "y.replace(\"apple\",\"orange\")"
      ],
      "metadata": {
        "colab": {
          "base_uri": "https://localhost:8080/",
          "height": 35
        },
        "id": "1cQIlGkhiR5N",
        "outputId": "2b01cc23-5ecc-456e-d41b-dd8ceabdd674"
      },
      "execution_count": 22,
      "outputs": [
        {
          "output_type": "execute_result",
          "data": {
            "text/plain": [
              "'I like orange'"
            ],
            "application/vnd.google.colaboratory.intrinsic+json": {
              "type": "string"
            }
          },
          "metadata": {},
          "execution_count": 22
        }
      ]
    },
    {
      "cell_type": "markdown",
      "source": [
        "**Question no. 06. Write a code to create a list wiht numbers 1 to 5 and print it.**"
      ],
      "metadata": {
        "id": "awZa-04RikfG"
      }
    },
    {
      "cell_type": "code",
      "source": [
        "p = [1,2,3,4,5]\n",
        "print(p)"
      ],
      "metadata": {
        "colab": {
          "base_uri": "https://localhost:8080/"
        },
        "id": "gGZ9p22Vi0uW",
        "outputId": "1b94d3de-b6e6-4efc-b7e1-ff90affe2abc"
      },
      "execution_count": 23,
      "outputs": [
        {
          "output_type": "stream",
          "name": "stdout",
          "text": [
            "[1, 2, 3, 4, 5]\n"
          ]
        }
      ]
    },
    {
      "cell_type": "markdown",
      "source": [
        "**Question no. 07. Write a code to append the number 10 to the list [1,2,3,4].**"
      ],
      "metadata": {
        "id": "EVgRdKo_i8JG"
      }
    },
    {
      "cell_type": "code",
      "source": [
        "j = [1,2,3,4]\n",
        "j.append(10)\n",
        "j"
      ],
      "metadata": {
        "colab": {
          "base_uri": "https://localhost:8080/"
        },
        "id": "NtfHm8txjUcp",
        "outputId": "aa510c9e-a55c-43a7-971e-078631315a0e"
      },
      "execution_count": 26,
      "outputs": [
        {
          "output_type": "execute_result",
          "data": {
            "text/plain": [
              "[1, 2, 3, 4, 10]"
            ]
          },
          "metadata": {},
          "execution_count": 26
        }
      ]
    },
    {
      "cell_type": "markdown",
      "source": [
        "**Question no. 08. Write a code to remove the number 3 from the list [1,2,3,4,5].**"
      ],
      "metadata": {
        "id": "ZORpbxWEjdjd"
      }
    },
    {
      "cell_type": "code",
      "source": [
        "v = [1,2,3,4,5]\n",
        "v.remove(3)\n",
        "v"
      ],
      "metadata": {
        "colab": {
          "base_uri": "https://localhost:8080/"
        },
        "id": "NdFzxEBlj7qu",
        "outputId": "9428dc76-bdba-4a56-837c-df599cdae183"
      },
      "execution_count": 27,
      "outputs": [
        {
          "output_type": "execute_result",
          "data": {
            "text/plain": [
              "[1, 2, 4, 5]"
            ]
          },
          "metadata": {},
          "execution_count": 27
        }
      ]
    },
    {
      "cell_type": "markdown",
      "source": [
        "**Question no. 09. Write a code to access the second element in the list ['a','b','c','d'].**"
      ],
      "metadata": {
        "id": "4_rgdcM-kDHU"
      }
    },
    {
      "cell_type": "code",
      "source": [
        "m = ['a','b','c','d']\n",
        "m[1]"
      ],
      "metadata": {
        "colab": {
          "base_uri": "https://localhost:8080/",
          "height": 35
        },
        "id": "az3sxbEckjPL",
        "outputId": "50f7ea47-0beb-4f05-9671-2ee2855655fa"
      },
      "execution_count": 29,
      "outputs": [
        {
          "output_type": "execute_result",
          "data": {
            "text/plain": [
              "'b'"
            ],
            "application/vnd.google.colaboratory.intrinsic+json": {
              "type": "string"
            }
          },
          "metadata": {},
          "execution_count": 29
        }
      ]
    },
    {
      "cell_type": "markdown",
      "source": [
        "**Question no. 10. Write a code to reverse the list [10,20,30,40,50].**"
      ],
      "metadata": {
        "id": "m-2kg1QKk7pu"
      }
    },
    {
      "cell_type": "code",
      "source": [
        "n = [10,20,30,40,50]\n",
        "n[::-1]"
      ],
      "metadata": {
        "colab": {
          "base_uri": "https://localhost:8080/"
        },
        "id": "givqQ77nlR4c",
        "outputId": "77101f2b-0483-41c3-f4e5-f0da2251c03b"
      },
      "execution_count": 30,
      "outputs": [
        {
          "output_type": "execute_result",
          "data": {
            "text/plain": [
              "[50, 40, 30, 20, 10]"
            ]
          },
          "metadata": {},
          "execution_count": 30
        }
      ]
    },
    {
      "cell_type": "markdown",
      "source": [
        "**Question no. 11. Write a code to create a tuple with the element 100, 200,300 and print it.**"
      ],
      "metadata": {
        "id": "ZcLL_607lY-4"
      }
    },
    {
      "cell_type": "code",
      "source": [
        "l=(100, 200,300)\n",
        "print(l)"
      ],
      "metadata": {
        "colab": {
          "base_uri": "https://localhost:8080/"
        },
        "id": "JwfqO-HXlxHj",
        "outputId": "810c0f05-1c9c-43e0-8d83-209ccb202502"
      },
      "execution_count": 31,
      "outputs": [
        {
          "output_type": "stream",
          "name": "stdout",
          "text": [
            "(100, 200, 300)\n"
          ]
        }
      ]
    },
    {
      "cell_type": "markdown",
      "source": [
        "**Question no. 12. Write a code to acesss the second to last element of the tuple ('red', 'green','blue','yellow').**"
      ],
      "metadata": {
        "id": "cmRYeYDjl7gD"
      }
    },
    {
      "cell_type": "code",
      "source": [
        "g = ('red', 'green','blue','yellow')\n",
        "g[1:4]"
      ],
      "metadata": {
        "colab": {
          "base_uri": "https://localhost:8080/"
        },
        "id": "8WGLjAVRmeTW",
        "outputId": "0237be6a-1f14-42d6-a64c-8d6ba004094e"
      },
      "execution_count": 34,
      "outputs": [
        {
          "output_type": "execute_result",
          "data": {
            "text/plain": [
              "('green', 'blue', 'yellow')"
            ]
          },
          "metadata": {},
          "execution_count": 34
        }
      ]
    },
    {
      "cell_type": "markdown",
      "source": [
        "**Question no. 13. Write a code to find the minimum number in the tuple (10,20,5,15).**"
      ],
      "metadata": {
        "id": "XX99mgmKm4D7"
      }
    },
    {
      "cell_type": "code",
      "source": [
        "k = (10,20,5,15)\n",
        "min(k)"
      ],
      "metadata": {
        "colab": {
          "base_uri": "https://localhost:8080/"
        },
        "id": "w3NypSOJnSju",
        "outputId": "30d85ea6-9fd8-4762-809b-5d4931a89496"
      },
      "execution_count": 37,
      "outputs": [
        {
          "output_type": "execute_result",
          "data": {
            "text/plain": [
              "5"
            ]
          },
          "metadata": {},
          "execution_count": 37
        }
      ]
    },
    {
      "cell_type": "markdown",
      "source": [
        "** Question no. 14. Write a code to find the index of the element \"cat\" in the tuple ('dog', 'cat' , 'rabbit')."
      ],
      "metadata": {
        "id": "ioa3PD0rn3Hf"
      }
    },
    {
      "cell_type": "code",
      "source": [
        "x = ('dog', 'cat' , 'rabbit')\n",
        "x.index(\"cat\")"
      ],
      "metadata": {
        "colab": {
          "base_uri": "https://localhost:8080/"
        },
        "id": "svHQuWXUostw",
        "outputId": "ceebc7d8-4d17-469b-9538-3f47d555d11c"
      },
      "execution_count": 38,
      "outputs": [
        {
          "output_type": "execute_result",
          "data": {
            "text/plain": [
              "1"
            ]
          },
          "metadata": {},
          "execution_count": 38
        }
      ]
    },
    {
      "cell_type": "markdown",
      "source": [
        "**Question no. 15. Write a code to create a tuple containing three different fruits and check and if \"kiwi\" is in it.**"
      ],
      "metadata": {
        "id": "4kjx0Hg4o8Sy"
      }
    },
    {
      "cell_type": "code",
      "source": [
        "fruits= ('apple', 'banana', 'orange')\n",
        "\"kiwi\" in fruits\n"
      ],
      "metadata": {
        "colab": {
          "base_uri": "https://localhost:8080/"
        },
        "id": "tnVcilxlpn7b",
        "outputId": "877499d6-d343-44f7-9448-8f000cddec34"
      },
      "execution_count": 1,
      "outputs": [
        {
          "output_type": "execute_result",
          "data": {
            "text/plain": [
              "False"
            ]
          },
          "metadata": {},
          "execution_count": 1
        }
      ]
    },
    {
      "cell_type": "markdown",
      "source": [
        "**Question no. 16. Write a code to create a set with the elements 'a', 'b' , 'c' and print it.**\n"
      ],
      "metadata": {
        "id": "oPuIZILeqWv7"
      }
    },
    {
      "cell_type": "code",
      "source": [
        "e = {\"a\", \"b\", \"c\"}\n",
        "print(e)"
      ],
      "metadata": {
        "colab": {
          "base_uri": "https://localhost:8080/"
        },
        "id": "icZfbVaZo5E4",
        "outputId": "13dedc48-fed2-4f39-b0fc-5e8efad2adf5"
      },
      "execution_count": 3,
      "outputs": [
        {
          "output_type": "stream",
          "name": "stdout",
          "text": [
            "{'b', 'c', 'a'}\n"
          ]
        }
      ]
    },
    {
      "cell_type": "markdown",
      "source": [
        "**Question no 17. Write a code to clear all elements from the set {1,2,3,4,5}.**"
      ],
      "metadata": {
        "id": "-8lVZTHSvah4"
      }
    },
    {
      "cell_type": "code",
      "source": [
        "t = {1,2,3,4,5}\n",
        "t.clear()\n",
        "t"
      ],
      "metadata": {
        "colab": {
          "base_uri": "https://localhost:8080/"
        },
        "id": "_zh1zNidvVds",
        "outputId": "0a0c0c8c-dc55-475e-d0ec-bcdd7d2c8cb3"
      },
      "execution_count": 5,
      "outputs": [
        {
          "output_type": "execute_result",
          "data": {
            "text/plain": [
              "set()"
            ]
          },
          "metadata": {},
          "execution_count": 5
        }
      ]
    },
    {
      "cell_type": "markdown",
      "source": [
        "**Question no. 18. Write a code to remove element 4 from the set {1,2,3,4}.**"
      ],
      "metadata": {
        "id": "odAzN7mFvy2b"
      }
    },
    {
      "cell_type": "code",
      "source": [
        "y ={1,2,3,4}\n",
        "y.remove(4)\n",
        "y"
      ],
      "metadata": {
        "colab": {
          "base_uri": "https://localhost:8080/"
        },
        "id": "0DtAcQHsvuju",
        "outputId": "16a9b931-fb69-45f0-d6ca-f367b1937674"
      },
      "execution_count": 6,
      "outputs": [
        {
          "output_type": "execute_result",
          "data": {
            "text/plain": [
              "{1, 2, 3}"
            ]
          },
          "metadata": {},
          "execution_count": 6
        }
      ]
    },
    {
      "cell_type": "markdown",
      "source": [
        "**Question no. 19. Write a code to find the union of the two sets {1,2,3} and {4,5,6}.**"
      ],
      "metadata": {
        "id": "ujFmbu1awKbu"
      }
    },
    {
      "cell_type": "code",
      "source": [
        "a = {1,2,3}\n",
        "b = {4,5,6}\n",
        "print(a|b)"
      ],
      "metadata": {
        "colab": {
          "base_uri": "https://localhost:8080/"
        },
        "id": "yqp-oKRbwd67",
        "outputId": "c54d8627-2d3a-47fc-b0bc-5df41eed3ef5"
      },
      "execution_count": 11,
      "outputs": [
        {
          "output_type": "stream",
          "name": "stdout",
          "text": [
            "{1, 2, 3, 4, 5, 6}\n"
          ]
        }
      ]
    },
    {
      "cell_type": "markdown",
      "source": [
        "**Question no. 20. write a code to find the intersection of the two sets {1,2,3} and {2,3,4}.**"
      ],
      "metadata": {
        "id": "FtUK2lkfxKQk"
      }
    },
    {
      "cell_type": "code",
      "source": [
        "a = {1,2,3}\n",
        "b = {2,3,4}\n",
        "a&b"
      ],
      "metadata": {
        "colab": {
          "base_uri": "https://localhost:8080/"
        },
        "id": "heaCnpMHwIm-",
        "outputId": "f8b6d359-d38e-4a72-9dae-6139bfe09f94"
      },
      "execution_count": 12,
      "outputs": [
        {
          "output_type": "execute_result",
          "data": {
            "text/plain": [
              "{2, 3}"
            ]
          },
          "metadata": {},
          "execution_count": 12
        }
      ]
    },
    {
      "cell_type": "markdown",
      "source": [
        "**Question no. 21. Write a code to create a dictionary with the keys \"name\", \"age\" and \"city\" and print it.**"
      ],
      "metadata": {
        "id": "_d6k43MvxypQ"
      }
    },
    {
      "cell_type": "code",
      "source": [
        "i = {\"name\":\"Ritesh\", \"age\": 23, \"city\":\"Dehradun\"}\n",
        "print(i)"
      ],
      "metadata": {
        "colab": {
          "base_uri": "https://localhost:8080/"
        },
        "id": "w2oL4okYxxDT",
        "outputId": "726fd4e3-7b38-495a-f7f9-9271135fd2d7"
      },
      "execution_count": 14,
      "outputs": [
        {
          "output_type": "stream",
          "name": "stdout",
          "text": [
            "{'name': 'Ritesh', 'age': 23, 'city': 'Dehradun'}\n"
          ]
        }
      ]
    },
    {
      "cell_type": "markdown",
      "source": [
        "**Question no. 22. Write a code to add a new  key value pair to \"country\": \"USA\" to the dictionary {\"name\":\"John\", \"age\": 25}.**"
      ],
      "metadata": {
        "id": "God1N32gybgt"
      }
    },
    {
      "cell_type": "code",
      "source": [
        "p = {\"name\":\"John\", \"age\": 25}\n",
        "p[\"country\"]=\"USA\"\n",
        "p"
      ],
      "metadata": {
        "colab": {
          "base_uri": "https://localhost:8080/"
        },
        "id": "bBKORSr6yaEo",
        "outputId": "2df8c33a-6101-490a-b5e6-8e06c356ccb3"
      },
      "execution_count": 16,
      "outputs": [
        {
          "output_type": "execute_result",
          "data": {
            "text/plain": [
              "{'name': 'John', 'age': 25, 'country': 'USA'}"
            ]
          },
          "metadata": {},
          "execution_count": 16
        }
      ]
    },
    {
      "cell_type": "markdown",
      "source": [
        "***Question no. 23. Write a code to access the value associated wiht the key\"name\" in the dictionary {\"name\":\"Alice\", \"age\": 30}.**"
      ],
      "metadata": {
        "id": "0caINn4ezt4M"
      }
    },
    {
      "cell_type": "code",
      "source": [
        "o = {\"name\":\"Alice\", \"age\": 30}\n",
        "o[\"name\"]"
      ],
      "metadata": {
        "colab": {
          "base_uri": "https://localhost:8080/",
          "height": 35
        },
        "id": "ZYtNYAItzqqH",
        "outputId": "f2c5dd6f-bb6a-45a1-b915-07dfe8ccdd53"
      },
      "execution_count": 17,
      "outputs": [
        {
          "output_type": "execute_result",
          "data": {
            "text/plain": [
              "'Alice'"
            ],
            "application/vnd.google.colaboratory.intrinsic+json": {
              "type": "string"
            }
          },
          "metadata": {},
          "execution_count": 17
        }
      ]
    },
    {
      "cell_type": "markdown",
      "source": [
        "**Question no. 24. Write a code to remove the key \"age\" from the dictionary {\"name\":\"Bod\", \"age\": 22, \"city\":\"New York\"}.**"
      ],
      "metadata": {
        "id": "4371EPiy0cPT"
      }
    },
    {
      "cell_type": "code",
      "source": [
        "t = {\"name\":\"Bod\", \"age\": 22, \"city\":\"New York\"}\n",
        "del t[\"age\"]\n",
        "t"
      ],
      "metadata": {
        "colab": {
          "base_uri": "https://localhost:8080/"
        },
        "id": "Pd7Ml8Zx07wG",
        "outputId": "22b033d2-f749-42e7-fcd2-4fbfcb69506f"
      },
      "execution_count": 19,
      "outputs": [
        {
          "output_type": "execute_result",
          "data": {
            "text/plain": [
              "{'name': 'Bod', 'city': 'New York'}"
            ]
          },
          "metadata": {},
          "execution_count": 19
        }
      ]
    },
    {
      "cell_type": "markdown",
      "source": [
        "**Question no. 25. Write a code to check if the key \"city\" exists in the dictionary {\"name\":\"Alice\", \"city\": \"Paris\"}.**"
      ],
      "metadata": {
        "id": "eZPHwWaU1Uyj"
      }
    },
    {
      "cell_type": "code",
      "source": [
        "person = {\"name\": \"Alice\", \"city\": \"Paris\"}\n",
        "\"city\" in person"
      ],
      "metadata": {
        "colab": {
          "base_uri": "https://localhost:8080/"
        },
        "id": "YJ-QcnR81HZ2",
        "outputId": "47b67ee6-22b8-4835-e641-c67b6011ac75"
      },
      "execution_count": 20,
      "outputs": [
        {
          "output_type": "execute_result",
          "data": {
            "text/plain": [
              "True"
            ]
          },
          "metadata": {},
          "execution_count": 20
        }
      ]
    },
    {
      "cell_type": "markdown",
      "source": [
        "**Question no. 26. Write a code to creat a list, tuple and a dictionary and print all of them.**"
      ],
      "metadata": {
        "id": "T4mSh2OZ4mPo"
      }
    },
    {
      "cell_type": "code",
      "source": [
        "my_list = [10, 20, 30]\n",
        "\n",
        "my_tuple = ('apple', 'banana', 'cherry')\n",
        "\n",
        "my_dict = {'name': 'John', 'age': 25}\n",
        "\n",
        "print(\"List:\", my_list)\n",
        "print(\"Tuple:\", my_tuple)\n",
        "print(\"Dictionary:\", my_dict)\n"
      ],
      "metadata": {
        "colab": {
          "base_uri": "https://localhost:8080/"
        },
        "id": "bNDzv6Y15ORi",
        "outputId": "d80d469c-5bc0-47c9-e686-5306a2c7733c"
      },
      "execution_count": 21,
      "outputs": [
        {
          "output_type": "stream",
          "name": "stdout",
          "text": [
            "List: [10, 20, 30]\n",
            "Tuple: ('apple', 'banana', 'cherry')\n",
            "Dictionary: {'name': 'John', 'age': 25}\n"
          ]
        }
      ]
    },
    {
      "cell_type": "markdown",
      "source": [
        "**Question no. 27. Write a code to create a list of 5 random numberes between 1 and 100, sort it in asencending ordeder,  and print the result.( replaced).**"
      ],
      "metadata": {
        "id": "TO-FGiYO5tlT"
      }
    },
    {
      "cell_type": "code",
      "source": [
        "import random\n",
        "\n",
        "k = [random.randint(1, 100) for _ in range(5)]\n",
        "k.sort()\n",
        "print(\"Sorted list:\", k)\n"
      ],
      "metadata": {
        "colab": {
          "base_uri": "https://localhost:8080/"
        },
        "id": "dlnqEa5V6aNZ",
        "outputId": "ef71f80a-c287-4fd0-d53d-04a983ed9288"
      },
      "execution_count": 22,
      "outputs": [
        {
          "output_type": "stream",
          "name": "stdout",
          "text": [
            "Sorted list: [7, 41, 59, 80, 91]\n"
          ]
        }
      ]
    },
    {
      "cell_type": "markdown",
      "source": [
        "**Question no. 28. Write a code to creat strings and print the element at the third index.**"
      ],
      "metadata": {
        "id": "ZxIsi0T_6tLJ"
      }
    },
    {
      "cell_type": "code",
      "source": [
        "o = \"Hello, World!\"\n",
        "print(o[3])"
      ],
      "metadata": {
        "colab": {
          "base_uri": "https://localhost:8080/"
        },
        "id": "CYMO6pFy7DiJ",
        "outputId": "f57ce054-d5aa-49b8-8de9-f385b6f1a8e7"
      },
      "execution_count": 23,
      "outputs": [
        {
          "output_type": "stream",
          "name": "stdout",
          "text": [
            "l\n"
          ]
        }
      ]
    },
    {
      "cell_type": "markdown",
      "source": [
        "**Question no. 29. Write a code to combine two dictionaries into one and print and result.**"
      ],
      "metadata": {
        "id": "VVCrGe337URe"
      }
    },
    {
      "cell_type": "code",
      "source": [
        "x = {'a': 1, 'b': 2}\n",
        "y = {'c': 3, 'd': 4}\n",
        "\n",
        "combined_dict = {**x,**y}\n",
        "\n",
        "print(\"Combined dictionary:\", combined_dict)\n"
      ],
      "metadata": {
        "colab": {
          "base_uri": "https://localhost:8080/"
        },
        "id": "D3gDbSZA5r9I",
        "outputId": "52ce247c-a846-4b46-c53d-3ebde542efaa"
      },
      "execution_count": 25,
      "outputs": [
        {
          "output_type": "stream",
          "name": "stdout",
          "text": [
            "Combined dictionary: {'a': 1, 'b': 2, 'c': 3, 'd': 4}\n"
          ]
        }
      ]
    },
    {
      "cell_type": "markdown",
      "source": [
        "**Question no. 30. Write a code to convert a list of strings into a set.**"
      ],
      "metadata": {
        "id": "j1eFNNxm8aZI"
      }
    },
    {
      "cell_type": "code",
      "source": [
        "l = ['apple', 'banana', 'apple', 'cherry', 'banana']\n",
        "s = set(l)\n",
        "\n",
        "print(\"Set of strings:\", s)\n"
      ],
      "metadata": {
        "colab": {
          "base_uri": "https://localhost:8080/"
        },
        "id": "vQP2TBfv8HQZ",
        "outputId": "61b88689-dcf1-4206-8616-b0084c4add2d"
      },
      "execution_count": 26,
      "outputs": [
        {
          "output_type": "stream",
          "name": "stdout",
          "text": [
            "Set of strings: {'apple', 'banana', 'cherry'}\n"
          ]
        }
      ]
    }
  ]
}